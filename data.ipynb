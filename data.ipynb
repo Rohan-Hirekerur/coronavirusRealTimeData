{
 "cells": [
  {
   "cell_type": "code",
   "execution_count": 31,
   "metadata": {},
   "outputs": [
    {
     "data": {
      "text/html": [
       "<div>\n",
       "<style scoped>\n",
       "    .dataframe tbody tr th:only-of-type {\n",
       "        vertical-align: middle;\n",
       "    }\n",
       "\n",
       "    .dataframe tbody tr th {\n",
       "        vertical-align: top;\n",
       "    }\n",
       "\n",
       "    .dataframe thead th {\n",
       "        text-align: right;\n",
       "    }\n",
       "</style>\n",
       "<table border=\"1\" class=\"dataframe\">\n",
       "  <thead>\n",
       "    <tr style=\"text-align: right;\">\n",
       "      <th></th>\n",
       "      <th>confirm</th>\n",
       "      <th>suspect</th>\n",
       "      <th>dead</th>\n",
       "      <th>heal</th>\n",
       "    </tr>\n",
       "  </thead>\n",
       "  <tbody>\n",
       "    <tr>\n",
       "      <th>湖北</th>\n",
       "      <td>5806</td>\n",
       "      <td>49</td>\n",
       "      <td>204</td>\n",
       "      <td>139</td>\n",
       "    </tr>\n",
       "    <tr>\n",
       "      <th>浙江</th>\n",
       "      <td>537</td>\n",
       "      <td>0</td>\n",
       "      <td>0</td>\n",
       "      <td>13</td>\n",
       "    </tr>\n",
       "    <tr>\n",
       "      <th>广东</th>\n",
       "      <td>436</td>\n",
       "      <td>0</td>\n",
       "      <td>0</td>\n",
       "      <td>11</td>\n",
       "    </tr>\n",
       "    <tr>\n",
       "      <th>河南</th>\n",
       "      <td>352</td>\n",
       "      <td>0</td>\n",
       "      <td>2</td>\n",
       "      <td>3</td>\n",
       "    </tr>\n",
       "    <tr>\n",
       "      <th>湖南</th>\n",
       "      <td>332</td>\n",
       "      <td>0</td>\n",
       "      <td>0</td>\n",
       "      <td>3</td>\n",
       "    </tr>\n",
       "  </tbody>\n",
       "</table>\n",
       "</div>"
      ],
      "text/plain": [
       "    confirm  suspect  dead  heal\n",
       "湖北     5806       49   204   139\n",
       "浙江      537        0     0    13\n",
       "广东      436        0     0    11\n",
       "河南      352        0     2     3\n",
       "湖南      332        0     0     3"
      ]
     },
     "execution_count": 31,
     "metadata": {},
     "output_type": "execute_result"
    }
   ],
   "source": [
    "from datetime import datetime\n",
    "import numpy as np\n",
    "import pandas as pd\n",
    "import time, json, requests\n",
    "\n",
    "import matplotlib.pyplot as plt\n",
    "url = 'https://view.inews.qq.com/g2/getOnsInfo?name=disease_h5&callback=&_=%d'%int(time.time()*1000)\n",
    "data = json.loads(requests.get(url=url).json()['data'])\n",
    "data2=data['areaTree'][0]['children']\n",
    "\n",
    "dictionary = {}\n",
    "for data3 in data2:\n",
    "   key=data3['name']\n",
    "   #value=data3['total']['confirm'] # query only confirmed\n",
    "   value=data3['total']\n",
    "   dictionary[key]=value\n",
    "#print(dictionary)\n",
    "df=pd.DataFrame.from_dict(dictionary, orient='index')\n",
    "df.head()\n",
    "#pip install geopandas"
   ]
  },
  {
   "cell_type": "code",
   "execution_count": 34,
   "metadata": {},
   "outputs": [],
   "source": [
    "df.rename(columns={\n",
    "        'confirm':'Confirmed','suspect':'Suspected','dead':'Deaths', 'heal':'Recovered'}, inplace=True) "
   ]
  },
  {
   "cell_type": "code",
   "execution_count": 35,
   "metadata": {},
   "outputs": [
    {
     "name": "stdout",
     "output_type": "stream",
     "text": [
      "     Confirmed  Suspected  Deaths  Recovered\n",
      "湖北        5806         49     204        139\n",
      "浙江         537          0       0         13\n",
      "广东         436          0       0         11\n",
      "河南         352          0       2          3\n",
      "湖南         332          0       0          3\n",
      "江西         240          0       0          7\n",
      "安徽         237          0       0          3\n",
      "重庆         211          0       0          1\n",
      "山东         184          0       0          2\n",
      "四川         177          0       1          1\n",
      "江苏         168          0       0          5\n",
      "北京         139          0       1          5\n",
      "上海         135          0       1          9\n",
      "福建         120          0       0          0\n",
      "广西          87          0       0          2\n",
      "陕西          87          0       0          0\n",
      "云南          83          0       0          2\n",
      "河北          82          0       1          0\n",
      "辽宁          60          0       0          1\n",
      "黑龙江         59          0       2          0\n",
      "海南          52          0       1          1\n",
      "山西          39          0       0          1\n",
      "甘肃          35          0       0          0\n",
      "天津          32          0       0          0\n",
      "贵州          29          0       0          1\n",
      "宁夏          21          0       0          0\n",
      "内蒙古         20          0       0          1\n",
      "新疆          17          0       0          0\n",
      "吉林          14          0       0          1\n",
      "香港          12          0       0          0\n",
      "台湾          10          0       0          0\n",
      "青海           8          0       0          0\n",
      "澳门           7          0       0          0\n",
      "西藏           1          0       0          0\n"
     ]
    }
   ],
   "source": [
    "print(df)"
   ]
  }
 ],
 "metadata": {
  "kernelspec": {
   "display_name": "Python 3",
   "language": "python",
   "name": "python3"
  },
  "language_info": {
   "codemirror_mode": {
    "name": "ipython",
    "version": 3
   },
   "file_extension": ".py",
   "mimetype": "text/x-python",
   "name": "python",
   "nbconvert_exporter": "python",
   "pygments_lexer": "ipython3",
   "version": "3.7.6"
  },
  "latex_envs": {
   "LaTeX_envs_menu_present": true,
   "autoclose": false,
   "autocomplete": true,
   "bibliofile": "biblio.bib",
   "cite_by": "apalike",
   "current_citInitial": 1,
   "eqLabelWithNumbers": true,
   "eqNumInitial": 1,
   "hotkeys": {
    "equation": "Ctrl-E",
    "itemize": "Ctrl-I"
   },
   "labels_anchors": false,
   "latex_user_defs": false,
   "report_style_numbering": false,
   "user_envs_cfg": false
  },
  "toc": {
   "base_numbering": 1,
   "nav_menu": {},
   "number_sections": true,
   "sideBar": true,
   "skip_h1_title": false,
   "title_cell": "Table of Contents",
   "title_sidebar": "Contents",
   "toc_cell": false,
   "toc_position": {},
   "toc_section_display": true,
   "toc_window_display": false
  }
 },
 "nbformat": 4,
 "nbformat_minor": 2
}
